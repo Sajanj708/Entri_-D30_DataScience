{
  "nbformat": 4,
  "nbformat_minor": 0,
  "metadata": {
    "colab": {
      "provenance": [],
      "authorship_tag": "ABX9TyMf22pFdD+awZbj9xWBc+KI",
      "include_colab_link": true
    },
    "kernelspec": {
      "name": "python3",
      "display_name": "Python 3"
    },
    "language_info": {
      "name": "python"
    }
  },
  "cells": [
    {
      "cell_type": "markdown",
      "metadata": {
        "id": "view-in-github",
        "colab_type": "text"
      },
      "source": [
        "<a href=\"https://colab.research.google.com/github/Sajanj708/Entri_-D30_DataScience_Python/blob/main/Python_Fundamentals.ipynb\" target=\"_parent\"><img src=\"https://colab.research.google.com/assets/colab-badge.svg\" alt=\"Open In Colab\"/></a>"
      ]
    },
    {
      "cell_type": "markdown",
      "source": [
        "PYTHON FUNDAMENTALS\n"
      ],
      "metadata": {
        "id": "BpaUbm9j0-Pj"
      }
    },
    {
      "cell_type": "code",
      "source": [
        "#Exercise-1\n",
        "#Write python code that prints your name,student number and email address.\n",
        "name = \"Sajan jose\"\n",
        "student_number = \"ST1012\"\n",
        "email_address = \"sajanj708@gmail.com\"\n",
        "print(name)\n",
        "print(student_number)\n",
        "print(email_address)"
      ],
      "metadata": {
        "colab": {
          "base_uri": "https://localhost:8080/"
        },
        "id": "tdbce4qL3Aj8",
        "outputId": "94671317-8e23-473a-80ae-1de8fde458d5"
      },
      "execution_count": null,
      "outputs": [
        {
          "output_type": "stream",
          "name": "stdout",
          "text": [
            "Sajan jose\n",
            "ST1012\n",
            "sajanj708@gmail.com\n"
          ]
        }
      ]
    },
    {
      "cell_type": "code",
      "source": [
        "#Excercise-2\n",
        "#Write python code that prints your name,student number and email address using escape sequences.\n",
        "name = \"Sajan jose\"\n",
        "student_number = \"ST1012 \"\n",
        "email_address = \"sajanj708@gmail.com\"\n",
        "print(f\"{name}\\n{student_number}\\n{email_address}\")"
      ],
      "metadata": {
        "colab": {
          "base_uri": "https://localhost:8080/"
        },
        "id": "ryFf0vUe3z6z",
        "outputId": "2e87ca0d-8e47-4d65-8704-e90c40f1cf01"
      },
      "execution_count": null,
      "outputs": [
        {
          "output_type": "stream",
          "name": "stdout",
          "text": [
            "Sajan jose\n",
            "ST1012 \n",
            "sajanj708@gmail.com\n"
          ]
        }
      ]
    },
    {
      "cell_type": "code",
      "source": [
        "#Excercise-3\n",
        "#Write python code that add,subtract,multipy and divide the two numbers.you can use the two numbers14 and 7.\n",
        "num1 = 14\n",
        "num2 = 7\n",
        "print(num1 + num2)  #addition\n",
        "print(num1 - num2)  #subtraction\n",
        "print(num1 * num2)  #multiplication\n",
        "print(num1 / num2)  #division"
      ],
      "metadata": {
        "colab": {
          "base_uri": "https://localhost:8080/"
        },
        "id": "tb8ntOqo69EX",
        "outputId": "7e177117-2cf0-4871-8ff2-2f98d718a0f7"
      },
      "execution_count": null,
      "outputs": [
        {
          "output_type": "stream",
          "name": "stdout",
          "text": [
            "21\n",
            "7\n",
            "98\n",
            "2.0\n"
          ]
        }
      ]
    },
    {
      "cell_type": "code",
      "source": [
        "#Excercise-4\n",
        "#Write python code that displays the numbers from 1 to 5 as steps.\n",
        "for i in range(1,6):\n",
        "  print(i)\n"
      ],
      "metadata": {
        "colab": {
          "base_uri": "https://localhost:8080/"
        },
        "id": "CBSiv_477_Pd",
        "outputId": "a472f9be-787f-4a82-f26d-76d8a374e3ba"
      },
      "execution_count": null,
      "outputs": [
        {
          "output_type": "stream",
          "name": "stdout",
          "text": [
            "1\n",
            "2\n",
            "3\n",
            "4\n",
            "5\n"
          ]
        }
      ]
    },
    {
      "cell_type": "code",
      "source": [
        "#Excercise-5\n",
        "#write python code that outputs the following sentences(including the quotation marks and line break) to the screen:\n",
        "sentence = '\"SDK\" stands for \"Software Development Kit\", whereas\\n\"IDE\" stands for \"Integrated Develoment Environment\".'\n",
        "print(sentence)"
      ],
      "metadata": {
        "colab": {
          "base_uri": "https://localhost:8080/"
        },
        "id": "U_RSCrJk-FgB",
        "outputId": "3e1663ca-6f98-4eb7-fd30-f91fbfd9310a"
      },
      "execution_count": null,
      "outputs": [
        {
          "output_type": "stream",
          "name": "stdout",
          "text": [
            "\"SDK\" stands for \"Software Development Kit\", whereas\n",
            "\"IDE\" stands for \"Integrated Develoment Environment\".\n"
          ]
        }
      ]
    },
    {
      "cell_type": "code",
      "source": [
        "#Excercise-6\n",
        "#practice and check the output.\n",
        "print(\"python is an \\\"awesome\\\" language\")\n",
        "print(\"python\\n\\t2023\")\n",
        "print('I\\'m from Entri.\\b')\n",
        "print(\"\\65\")\n",
        "print(\"\\x65\")\n",
        "print(\"Entri\",\"2023\",sep=\"\\n\")\n",
        "print(\"Entri\",\"2023\",sep=\"\\b\")\n",
        "print(\"Entri\",\"2023\",sep=\"*\",end=\"\\b\\b\\b\\b\")\n",
        "\n"
      ],
      "metadata": {
        "colab": {
          "base_uri": "https://localhost:8080/"
        },
        "id": "pipQznJXAhRa",
        "outputId": "a89b4597-b918-481f-8bd2-45e71556acd3"
      },
      "execution_count": null,
      "outputs": [
        {
          "output_type": "stream",
          "name": "stdout",
          "text": [
            "python is an \"awesome\" language\n",
            "python\n",
            "\t2023\n",
            "I'm from Entri.\b\n",
            "5\n",
            "e\n",
            "Entri\n",
            "2023\n",
            "Entri\b2023\n",
            "Entri*2023\b\b\b\b"
          ]
        }
      ]
    },
    {
      "cell_type": "code",
      "source": [
        "#Excercise-7\n",
        "#Define the variables below.print the types of each variable.What is the sum of your variables?(Hint:use a type conversion function.)what datatype is the sum?\n",
        "#num = 23\n",
        "#textnum=\"57\"\n",
        "#decimal=98.3\n",
        "num = 23\n",
        "text_num = \"57\"\n",
        "decimal = 98.3\n",
        "print(type(num))\n",
        "print(type(text_num))\n",
        "print(type(decimal))"
      ],
      "metadata": {
        "colab": {
          "base_uri": "https://localhost:8080/"
        },
        "id": "AV6BVfDNCvXH",
        "outputId": "138a915c-81b5-4289-a79c-65ff7d1eb0c0"
      },
      "execution_count": null,
      "outputs": [
        {
          "output_type": "stream",
          "name": "stdout",
          "text": [
            "<class 'int'>\n",
            "<class 'str'>\n",
            "<class 'float'>\n"
          ]
        }
      ]
    },
    {
      "cell_type": "code",
      "source": [
        "#Excercise-8\n",
        "#calculate the number of minutes in a year using variables for each unit of time.\n",
        "#print a statement that describes what your code does also.\n",
        "#create three variables to store no. of days in a year,minute in a year and print the values\n",
        "#(hint)total number of minutes in a year = No.of days in a year*Hours in a day*Minutes in an hour.\n",
        "\n",
        "#no.of days in a year\n",
        "days_in_year = 365\n",
        "#no.of hours in a day\n",
        "hours_in_day = 24\n",
        "#no.of minutes in an hour\n",
        "minutes_in_hour = 60\n",
        "\n",
        "#calculate total no. of minutes in a year\n",
        "total_minutes_in_year = days_in_year*hours_in_day*minutes_in_hour #Formula\n",
        "\n",
        "print(\"This code calculates the total number of minutes in a year.\")\n",
        "print(f\"Number of days in a year: {days_in_year}\")\n",
        "print(f\"Number of hours in a day: {hours_in_day}\")\n",
        "print(f\"Number of minutes in an hour: {minutes_in_hour}\")\n",
        "print(f\"Total number of minutes in a year: {total_minutes_in_year}\")\n"
      ],
      "metadata": {
        "id": "_kFRCFa4ESdX",
        "colab": {
          "base_uri": "https://localhost:8080/"
        },
        "outputId": "3770c9c9-85b7-417d-fe55-95267ddc140c"
      },
      "execution_count": 23,
      "outputs": [
        {
          "output_type": "stream",
          "name": "stdout",
          "text": [
            "This code calculates the total number of minutes in a year.\n",
            "Number of days in a year: 365\n",
            "Number of hours in a day: 24\n",
            "Number of minutes in an hour: 60\n",
            "Total number of minutes in a year: 525600\n"
          ]
        }
      ]
    },
    {
      "cell_type": "code",
      "source": [
        "#Excercise-9\n",
        "#Write python code that asks the user to enter his/her name and then output/print his/her name with a greeting.\n",
        "name = input(\"Enter your name: \")\n",
        "print(f\"hi {name},welcome to Python Programming\")"
      ],
      "metadata": {
        "colab": {
          "base_uri": "https://localhost:8080/"
        },
        "id": "ZNVyV81Mw6jN",
        "outputId": "3dd9eda7-1354-4633-b7d5-198955444f39"
      },
      "execution_count": null,
      "outputs": [
        {
          "output_type": "stream",
          "name": "stdout",
          "text": [
            "Enter your name: sajan\n",
            "hi sajan,welcome to Python Programming\n"
          ]
        }
      ]
    },
    {
      "cell_type": "code",
      "source": [
        "#Excercise-10\n",
        "#Name your file:PoundsToDollars.py\n",
        "#Write a program that asks the user to enter an amount in pounds(£)and the program calculates and converts an amount in dollars($).\n",
        "\n",
        "# PoundsToDollars.py\n",
        "\n",
        "\n",
        "conversion_rate = 1.28 #conversion rate from pounds to dollars.\n",
        "\n",
        "amount_in_pounds = float(input(\"please enter amount in pounds:£\"))\n",
        "\n",
        "amount_in_dollars = amount_in_pounds * conversion_rate\n",
        "\n",
        "\n",
        "print(f\"£{amount_in_pounds:.2f} are ${amount_in_dollars:.2f}\") #conversion of pounds to dollars."
      ],
      "metadata": {
        "id": "Wz-Nwve-41Xi",
        "colab": {
          "base_uri": "https://localhost:8080/"
        },
        "outputId": "75c475d1-0371-474b-c686-a1e0dff4531d"
      },
      "execution_count": 22,
      "outputs": [
        {
          "output_type": "stream",
          "name": "stdout",
          "text": [
            "please enter amount in pounds:£25\n",
            "£25.00 are $32.00\n"
          ]
        }
      ]
    }
  ]
}