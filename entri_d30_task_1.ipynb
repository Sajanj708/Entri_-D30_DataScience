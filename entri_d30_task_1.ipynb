{
  "nbformat": 4,
  "nbformat_minor": 0,
  "metadata": {
    "colab": {
      "provenance": [],
      "authorship_tag": "ABX9TyMvQa9x4DN44LK0QIfEGqfD",
      "include_colab_link": true
    },
    "kernelspec": {
      "name": "python3",
      "display_name": "Python 3"
    },
    "language_info": {
      "name": "python"
    }
  },
  "cells": [
    {
      "cell_type": "markdown",
      "metadata": {
        "id": "view-in-github",
        "colab_type": "text"
      },
      "source": [
        "<a href=\"https://colab.research.google.com/github/Sajanj708/Entri_-D30_DataScience/blob/main/entri_d30_task_1.ipynb\" target=\"_parent\"><img src=\"https://colab.research.google.com/assets/colab-badge.svg\" alt=\"Open In Colab\"/></a>"
      ]
    },
    {
      "cell_type": "markdown",
      "source": [],
      "metadata": {
        "id": "7XhNYIg3Mv6K"
      }
    },
    {
      "cell_type": "markdown",
      "source": [],
      "metadata": {
        "id": "eObBgzO0lhID"
      }
    },
    {
      "cell_type": "markdown",
      "source": [
        "#TASK-1\n"
      ],
      "metadata": {
        "id": "o_Ez8X4vMxd2"
      }
    },
    {
      "cell_type": "code",
      "execution_count": null,
      "metadata": {
        "id": "qylSOgKTFSSh",
        "colab": {
          "base_uri": "https://localhost:8080/"
        },
        "outputId": "62a94c28-6799-4f47-cee8-376865eae26d"
      },
      "outputs": [
        {
          "output_type": "stream",
          "name": "stdout",
          "text": [
            "enter a number: 35\n",
            "num is divisible by 7  and multiple of 5\n"
          ]
        }
      ],
      "source": [
        "num = int(input(\"enter a number: \"))\n",
        "\n",
        "if num % 7 == 0 and num % 5 == 0:\n",
        "  print(f\"num is divisible by 7  and multiple of 5\")\n",
        "\n",
        "elif num % 7 == 0:\n",
        "  print(f\"num is divisible by 7\")\n",
        "\n",
        "elif num % 5 == 0:\n",
        "    print(f\"num is multiple of 5\")\n",
        "\n",
        "else:\n",
        "  print(f\"num is neither divisible by 7 nor a multiple of 5\")\n",
        "\n"
      ]
    },
    {
      "cell_type": "code",
      "source": [
        "i = int(input(\"enter a number: \"))\n",
        "if i == 0:\n",
        "  print(\"The number is zero\")\n",
        "\n",
        "elif i % 2:\n",
        "  print(\"The number is odd\")\n",
        "else:\n",
        "  print(\"The number is even\")\n",
        "\n"
      ],
      "metadata": {
        "id": "wRVTgxk5N89I",
        "colab": {
          "base_uri": "https://localhost:8080/"
        },
        "outputId": "7f7a8c0e-bcca-46cb-8eb7-e3c20ae63034"
      },
      "execution_count": null,
      "outputs": [
        {
          "output_type": "stream",
          "name": "stdout",
          "text": [
            "enter a number: 0\n",
            "The number is zero\n"
          ]
        }
      ]
    },
    {
      "cell_type": "code",
      "source": [
        "i = float(input(\"enter a number:'\"))\n",
        "if i == int(i):\n",
        "  print(\"INTEGER\")\n",
        "else:\n",
        "  print(\"FLOAT\")"
      ],
      "metadata": {
        "colab": {
          "base_uri": "https://localhost:8080/"
        },
        "id": "24QeXLBeSOL4",
        "outputId": "1315a489-2d80-4ddb-fcd9-ccb8c238c197"
      },
      "execution_count": null,
      "outputs": [
        {
          "output_type": "stream",
          "name": "stdout",
          "text": [
            "enter a number:'25\n",
            "INTEGER\n"
          ]
        }
      ]
    }
  ]
}